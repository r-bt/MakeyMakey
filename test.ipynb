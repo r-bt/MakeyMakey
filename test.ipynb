{
 "cells": [
  {
   "cell_type": "code",
   "execution_count": null,
   "id": "9f9c4a91",
   "metadata": {},
   "outputs": [],
   "source": [
    "import numpy as np\n",
    "import matplotlib.pyplot as plt\n",
    "\n",
    "from scipy.fft import fft, fftfreq\n",
    "\n",
    "from src import Radar"
   ]
  },
  {
   "cell_type": "code",
   "execution_count": null,
   "id": "ed734ae3",
   "metadata": {},
   "outputs": [],
   "source": [
    "radar = Radar(\"configs/1443_mmwavestudio_config_continuous.lua\")\n",
    "\n",
    "c = 3e8                                                 # speed of light - m/s\n",
    "SAMPLES_PER_CHIRP = radar.params['n_samples']           # adc number of samples per chirp\n",
    "SAMPLE_RATE = radar.params['sample_rate']               # digout sample rate in Hz\n",
    "FREQ_SLOPE = radar.params['chirp_slope']                # frequency slope in Hz (/s)"
   ]
  },
  {
   "cell_type": "code",
   "execution_count": null,
   "id": "8b6afaa7",
   "metadata": {},
   "outputs": [],
   "source": [
    "frame = radar.read()['data']\n",
    "frame.shape # shape (num_chirps, num_samples, num_rx)"
   ]
  },
  {
   "cell_type": "code",
   "execution_count": null,
   "id": "11a8e73f",
   "metadata": {},
   "outputs": [],
   "source": [
    "# signal = frame[0, :, :] # take the first chirp and first rx channel\n",
    "signal = np.mean(frame, axis=0)\n",
    "fft_result = fft(signal, axis=0)\n",
    "fft_freqs = fftfreq(SAMPLES_PER_CHIRP, 1/SAMPLE_RATE)\n",
    "fft_meters = fft_freqs * c / (2 * FREQ_SLOPE)\n",
    "\n",
    "plt.figure(figsize=(12, 9))\n",
    "# --- Time Domain Plot ---\n",
    "plt.subplot(2, 1, 1)\n",
    "plt.plot(signal[:, 0], color='blue', label='RX1', alpha=0.7)\n",
    "plt.plot(signal[:, 1], color='orange', label='RX2', alpha=0.7)\n",
    "plt.plot(signal[:, 2], color='blue', label='RX3', alpha=0.7)\n",
    "plt.plot(signal[:, 3], color='red', label='RX4', alpha=0.7)\n",
    "plt.title('Time Domain Signals')\n",
    "plt.xlabel('Sample Index')\n",
    "plt.ylabel('Amplitude')\n",
    "\n",
    "# --- Frequency Domain Plot ---\n",
    "plt.subplot(2, 1, 2)\n",
    "plt.plot(fft_meters[:SAMPLES_PER_CHIRP // 2],  np.abs(fft_result[:SAMPLES_PER_CHIRP // 2, 0]), color='blue', label='RX1', alpha=0.7)\n",
    "plt.plot(fft_meters[:SAMPLES_PER_CHIRP // 2],  np.abs(fft_result[:SAMPLES_PER_CHIRP // 2, 1]), color='orange', label='RX2', alpha=0.7)\n",
    "plt.plot(fft_meters[:SAMPLES_PER_CHIRP // 2],  np.abs(fft_result[:SAMPLES_PER_CHIRP // 2, 2]), color='green', label='RX3', alpha=0.7)\n",
    "plt.plot(fft_meters[:SAMPLES_PER_CHIRP // 2],  np.abs(fft_result[:SAMPLES_PER_CHIRP // 2, 3]), color='red', label='RX4', alpha=0.7)\n",
    "plt.title('Frequency Domain Signals')\n",
    "plt.xlabel('Distance (m)')\n",
    "plt.ylabel('Magnitude')\n",
    "plt.legend()\n",
    "plt.xlim(0,1.5)\n",
    "plt.tight_layout()"
   ]
  }
 ],
 "metadata": {
  "language_info": {
   "name": "python"
  }
 },
 "nbformat": 4,
 "nbformat_minor": 5
}
